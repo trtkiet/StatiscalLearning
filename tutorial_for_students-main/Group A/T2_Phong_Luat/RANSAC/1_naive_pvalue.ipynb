{
 "cells": [
  {
   "cell_type": "code",
   "execution_count": 10,
   "id": "847e735e-6f32-4773-97ad-8d43046890f0",
   "metadata": {},
   "outputs": [],
   "source": [
    "from copy import copy\n",
    "import numpy as np\n",
    "from numpy.random import default_rng\n",
    "from sklearn.linear_model import RANSACRegressor\n",
    "from sklearn.datasets import make_regression\n",
    "rng = default_rng()\n",
    "from scipy.stats import norm\n",
    "import torch.nn as nn\n",
    "import torch\n",
    "import torch.nn.functional as F\n"
   ]
  },
  {
   "cell_type": "code",
   "execution_count": 11,
   "id": "8c103f2e-2723-442e-95ce-13acfc38f539",
   "metadata": {},
   "outputs": [],
   "source": [
    "#### Creating Modelwith Pytorch\n",
    "\n",
    "class ANN_Model(nn.Module):\n",
    "    def __init__(self, input_features=1, out_features=1):\n",
    "        super().__init__()\n",
    "        self.out=nn.Linear(input_features,out_features)\n",
    "    def forward(self,x):\n",
    "        x = torch.tensor(x).to(dtype=torch.float)\n",
    "        x = self.out(x)\n",
    "        return x"
   ]
  },
  {
   "cell_type": "code",
   "execution_count": 12,
   "id": "c999cd45-4bbf-439e-8c9e-f6d40fc22eb0",
   "metadata": {},
   "outputs": [],
   "source": [
    "#model = ANN_Model()\n",
    "\n",
    "def fit(model, X_train, y_train, n):\n",
    "    epochs = 10\n",
    "    optimizer=torch.optim.SGD(model.parameters(), lr=0.05)\n",
    "    Loss_function = nn.L1Loss()\n",
    "    optimizer.zero_grad()\n",
    "    for i in range(epochs):\n",
    "        y_pred = model.forward(X_train)\n",
    "        y_train = np.asarray(y_train)\n",
    "        y_train = y_train.reshape(n,1)\n",
    "        y_train = torch.from_numpy(y_train)\n",
    "        loss = Loss_function(y_pred,y_train)\n",
    "        optimizer.zero_grad()\n",
    "        loss.backward()\n",
    "        optimizer.step()"
   ]
  },
  {
   "cell_type": "code",
   "execution_count": 13,
   "id": "07f4cf64-8639-477a-8950-99718d765351",
   "metadata": {},
   "outputs": [],
   "source": [
    "class RANSAC:\n",
    "    def __init__(self, n=10, k=100, t=3, d=10, model=None, loss=None, metric=None):\n",
    "        self.n = n              # `n`: Minimum number of data points to estimate parameters\n",
    "        self.k = k              # `k`: Maximum iterations allowed\n",
    "        self.t = t              # `t`: Threshold value to determine if points are fit well\n",
    "        self.d = d              # `d`: Number of close data points required to assert model fits well\n",
    "        self.model = model      # `model`: class implementing `fit` and `predict`\n",
    "        self.loss = loss        # `loss`: function of `y_true` and `y_pred` that returns a vector\n",
    "        self.metric = metric    # `metric`: function of `y_true` and `y_pred` and returns a float\n",
    "        self.best_fit = None\n",
    "        self.best_error = np.inf\n",
    "        self.outliers = []\n",
    "        self.inliers = []\n",
    "\n",
    "    def fit(self, X, y):\n",
    "        for _ in range(self.k):\n",
    "            # get n random data points from dataset\n",
    "            ids = rng.permutation(X.shape[0])\n",
    "            maybe_inliers = ids[: self.n]\n",
    "            maybe_model = copy(self.model)\n",
    "            \n",
    "            # train a model with n data points that are considered as inliers\n",
    "            fit(maybe_model, X[maybe_inliers], y[maybe_inliers], self.n)\n",
    "            \n",
    "            # pick all data points, which satisfy the threshold t\n",
    "            inlier_ids = []\n",
    "            for i in ids:\n",
    "                if(i not in maybe_inliers):\n",
    "                    y_pred = maybe_model.forward(X[i])\n",
    "                    loss = self.loss(y[i],y_pred)\n",
    "                    #print(i, loss)\n",
    "                    if(loss < self.t):\n",
    "                        inlier_ids.append(i)\n",
    "            inlier_ids = np.array(inlier_ids)\n",
    "            \n",
    "            # Consider if the number of data points that are classified as inliers is sufficient to fit a better model\n",
    "            if inlier_ids.size > self.d:\n",
    "                # List of data points that are classified as inliers in this iteration\n",
    "                inlier_points = np.hstack([maybe_inliers, inlier_ids])\n",
    "\n",
    "                # List of outliers of this iteration\n",
    "                outlier = []\n",
    "                for i in ids:\n",
    "                    if(i not in inlier_points):\n",
    "                        outlier.append(i) \n",
    "\n",
    "                # train a model with data points in inlier_points\n",
    "                better_model = copy(self.model)\n",
    "                fit(better_model, X[inlier_points], y[inlier_points],len(inlier_points))\n",
    "\n",
    "                # calcualte the error in this iteration\n",
    "                yin = better_model.forward(X[inlier_points]).detach().numpy()\n",
    "                yin = yin.reshape(len(inlier_points))                \n",
    "                this_error = self.metric(y[inlier_points], yin)   \n",
    "\n",
    "                # If this error is smaller than our best error we had before, we must replace it\n",
    "                if this_error < self.best_error:\n",
    "                    self.best_error = this_error\n",
    "                    self.best_fit = better_model\n",
    "                    self.outliers = outlier\n",
    "                    self.inliers = inlier_points\n",
    "\n",
    "        return self\n",
    "\n",
    "    def predict(self, X):\n",
    "        return self.best_fit.forward(X)\n",
    "        "
   ]
  },
  {
   "cell_type": "code",
   "execution_count": 14,
   "id": "de22e535-16b6-4375-a019-bc329b533bec",
   "metadata": {},
   "outputs": [],
   "source": [
    "def square_error_loss(y_true, y_pred):\n",
    "    return (y_true - y_pred) ** 2\n",
    "\n",
    "\n",
    "def mean_square_error(y_true, y_pred):\n",
    "    return np.sum(square_error_loss(y_true, y_pred)) / y_true.shape[0]"
   ]
  },
  {
   "cell_type": "code",
   "execution_count": 15,
   "id": "90d949a8-7a23-4f79-830b-e789690f94c9",
   "metadata": {},
   "outputs": [],
   "source": [
    "def gentest(samples,outliers_size):\n",
    "    X = []\n",
    "    Y = []\n",
    "    for i in range(samples):\n",
    "        x = 4*(np.random.rand()-0.5)\n",
    "        X.append(x)\n",
    "        mu = x*5\n",
    "        y = mu+np.random.normal(0,1,1)[0]\n",
    "        Y.append(y)\n",
    "    #gen outliers\n",
    "    for i in range(outliers_size):\n",
    "        x = 4*(np.random.rand()-0.5)\n",
    "        X.append(x)\n",
    "        mu = x*15*np.random.rand()\n",
    "        y = mu+np.random.normal(0,1,1)[0]\n",
    "        Y.append(y)\n",
    "    return np.array(X),np.array(Y)"
   ]
  },
  {
   "cell_type": "code",
   "execution_count": 16,
   "id": "8d6eaa46-34f3-4ca4-b838-1ff9b5247b48",
   "metadata": {},
   "outputs": [],
   "source": [
    "def check(model, sample_size, index):\n",
    "    Sigma = np.identity(sample_size)\n",
    "    # construct eta\n",
    "    e1 = np.zeros((sample_size,1))\n",
    "    e1[index][0] = 1\n",
    "    Mat = np.zeros((sample_size,sample_size))\n",
    "    for i in inliers:\n",
    "        Mat[i][i] = 1\n",
    "    X_M = np.ones((sample_size,1))\n",
    "    for i in outliers:\n",
    "        X_M[i][0] = 0\n",
    "    for i in range(sample_size):\n",
    "        X_M[i][0] *= X[i][0]\n",
    "    Xobs = X[index]\n",
    "    Xovs = Xobs.reshape(1,1)\n",
    "    e2 = (X_M.T)/(np.dot(X_M.T,X_M))\n",
    "    e2.reshape((sample_size,1))\n",
    "    eta = (e1 - np.dot(Xobs,np.dot(e2,Mat))).T\n",
    "    # hypothesis testing\n",
    "    etaT_Sigma_eta = np.dot(np.dot(eta.T, Sigma), eta)\n",
    "    etaT_Y = np.dot((eta.T)[0],y)\n",
    "    cdf = norm.cdf(etaT_Y, loc = 0, scale = np.sqrt(etaT_Sigma_eta[0][0]))\n",
    "    p_value = min(cdf, 1-cdf) * 2\n",
    "    return p_value"
   ]
  },
  {
   "cell_type": "code",
   "execution_count": 26,
   "id": "856e88b4-2f94-415c-b04a-94fed081cb1c",
   "metadata": {},
   "outputs": [
    {
     "name": "stdout",
     "output_type": "stream",
     "text": [
      "Number of outliers:  25\n",
      "[106, 81, 74, 105, 109, 100, 110, 107, 72, 103, 83, 108, 7, 114, 12, 4, 94, 76, 111, 77, 104, 31, 15, 17, 113]\n"
     ]
    },
    {
     "data": {
      "image/png": "[encoded data removed]",
      "text/plain": [
       "<Figure size 640x480 with 1 Axes>"
      ]
     },
     "metadata": {},
     "output_type": "display_data"
    },
    {
     "name": "stdout",
     "output_type": "stream",
     "text": [
      "Percentage of the rejection:  1.0\n"
     ]
    },
    {
     "data": {
      "image/png": "[encoded data removed]",
      "text/plain": [
       "<Figure size 640x480 with 1 Axes>"
      ]
     },
     "metadata": {},
     "output_type": "display_data"
    }
   ],
   "source": [
    "if __name__ == \"__main__\":\n",
    "    inliers_size = 100\n",
    "    outliers_size = 15\n",
    "    #model = ANN_Model()\n",
    "    regressor = RANSAC(model = ANN_Model(),loss=square_error_loss, metric=mean_square_error)\n",
    "    X,y = gentest(inliers_size,outliers_size)\n",
    "    X = X.reshape((inliers_size+outliers_size,1))\n",
    "    regressor.fit(X, y)\n",
    "    outliers = regressor.outliers\n",
    "    inliers = regressor.inliers\n",
    "    print(\"Number of outliers: \",len(outliers))\n",
    "    print(outliers)\n",
    "\n",
    "    import matplotlib.pyplot as plt\n",
    "    fig, ax = plt.subplots(1, 1)\n",
    "    ax.set_box_aspect(1)\n",
    "    plt.scatter(X, y)\n",
    "    line = np.linspace(-2, 2, num=100).reshape(-1, 1)\n",
    "    plt.plot(line, regressor.predict(line).detach().numpy(), c=\"peru\")\n",
    "    plt.show()\n",
    "    p_values = []\n",
    "    # check the validity of the p-value\n",
    "    for i in outliers:\n",
    "        p_values.append(check(regressor,inliers_size+outliers_size, i))\n",
    "    alpha = 0.5\n",
    "    reject_count = 0\n",
    "    for p_value in p_values:\n",
    "        if p_value < alpha:\n",
    "            reject_count += 1\n",
    "    print(\"Percentage of the rejection: \",reject_count / len(p_values))\n",
    "    plt.hist(p_values)\n",
    "    plt.show()\n"
   ]
  },
  {
   "cell_type": "code",
   "execution_count": null,
   "id": "f24dbae0-c3a1-4e6c-9354-05b45e4bd938",
   "metadata": {},
   "outputs": [],
   "source": []
  },
  {
   "cell_type": "code",
   "execution_count": null,
   "id": "45547a29-19c6-4eed-815c-3b45ffd16c51",
   "metadata": {},
   "outputs": [],
   "source": []
  },
  {
   "cell_type": "code",
   "execution_count": null,
   "id": "d1618515-da20-421c-a30c-57d796b864af",
   "metadata": {},
   "outputs": [],
   "source": []
  },
  {
   "cell_type": "code",
   "execution_count": null,
   "id": "0f28b5a0-2798-499e-9764-b9fb579c41a2",
   "metadata": {},
   "outputs": [],
   "source": []
  },
  {
   "cell_type": "code",
   "execution_count": null,
   "id": "357c0325-2ac5-4a8e-87a3-2212e3aad2bb",
   "metadata": {},
   "outputs": [],
   "source": []
  }
 ],
 "metadata": {
  "kernelspec": {
   "display_name": "Python 3 (ipykernel)",
   "language": "python",
   "name": "python3"
  },
  "language_info": {
   "codemirror_mode": {
    "name": "ipython",
    "version": 3
   },
   "file_extension": ".py",
   "mimetype": "text/x-python",
   "name": "python",
   "nbconvert_exporter": "python",
   "pygments_lexer": "ipython3",
   "version": "3.11.7"
  }
 },
 "nbformat": 4,
 "nbformat_minor": 5
}
