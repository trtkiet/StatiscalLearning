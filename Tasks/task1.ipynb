{
 "cells": [
  {
   "cell_type": "markdown",
   "metadata": {},
   "source": [
    "# Importing libraries"
   ]
  },
  {
   "cell_type": "code",
   "execution_count": 326,
   "metadata": {},
   "outputs": [],
   "source": [
    "import numpy as np\n",
    "import matplotlib.pyplot as plt\n",
    "import scipy.stats as stats\n",
    "import math"
   ]
  },
  {
   "cell_type": "markdown",
   "metadata": {},
   "source": [
    "# Sinh các sample $X_i$"
   ]
  },
  {
   "cell_type": "code",
   "execution_count": 327,
   "metadata": {},
   "outputs": [
    {
     "data": {
      "text/plain": [
       "array([[ 0.06296419, -1.0650614 ,  0.26832963],\n",
       "       [-0.44281347, -1.08061962, -0.16967666],\n",
       "       [-0.47783795,  0.70208387,  1.98565131],\n",
       "       ...,\n",
       "       [-1.93977612, -0.29132203, -0.1310345 ],\n",
       "       [-0.51536132, -0.04030505,  0.08367454],\n",
       "       [-0.75535962, -0.13630708, -0.38628913]])"
      ]
     },
     "execution_count": 327,
     "metadata": {},
     "output_type": "execute_result"
    }
   ],
   "source": [
    "n_samples = 10000\n",
    "u = np.array([0, 0, 0])\n",
    "Z = np.identity(3)\n",
    "\n",
    "#np.random.seed(0) #Cố định samples\n",
    "X = np.random.multivariate_normal(u, Z, n_samples)\n",
    "X"
   ]
  },
  {
   "cell_type": "markdown",
   "metadata": {},
   "source": [
    "# Kiểm định giả thuyết $u_2 = 0$\n",
    "### $T = x_2 = (0, 1, 0)^T\\times X$\n",
    "### $T$ ~ $N((0, 0, 0)^T\\times u, (0, 1, 0)^T\\times Z\\times (0, 1, 0))$\n",
    "### $(0, 0, 0)^T\\times u = 0$\n",
    "### $(0, 1, 0)^T\\times Z\\times (0, 1, 0) = 1$\n",
    "### => $T$ ~ $N(0, 1)$\n",
    "### z_score $= (T - 0) / 1 = T$"
   ]
  },
  {
   "cell_type": "code",
   "execution_count": 328,
   "metadata": {},
   "outputs": [
    {
     "data": {
      "text/plain": [
       "array([-1.0650614 , -1.08061962,  0.70208387, ..., -0.29132203,\n",
       "       -0.04030505, -0.13630708])"
      ]
     },
     "execution_count": 328,
     "metadata": {},
     "output_type": "execute_result"
    }
   ],
   "source": [
    "T = X[:, 1]\n",
    "T"
   ]
  },
  {
   "cell_type": "code",
   "execution_count": 329,
   "metadata": {},
   "outputs": [
    {
     "data": {
      "text/plain": [
       "array([0.85657593, 0.86006682, 0.24131343, ..., 0.61459748, 0.51607504,\n",
       "       0.55421074])"
      ]
     },
     "execution_count": 329,
     "metadata": {},
     "output_type": "execute_result"
    }
   ],
   "source": [
    "p_values = (1 - stats.norm.cdf(T))\n",
    "p_values"
   ]
  },
  {
   "cell_type": "code",
   "execution_count": 330,
   "metadata": {},
   "outputs": [
    {
     "data": {
      "image/png": "[encoded data removed]",
      "text/plain": [
       "<Figure size 640x480 with 1 Axes>"
      ]
     },
     "metadata": {},
     "output_type": "display_data"
    }
   ],
   "source": [
    "plt.hist(p_values, bins=50, alpha=0.75, color='skyblue')\n",
    "plt.xlabel('p-value')\n",
    "plt.ylabel('Frequency')\n",
    "plt.title('Histogram of p-values')\n",
    "plt.show()"
   ]
  },
  {
   "cell_type": "code",
   "execution_count": 331,
   "metadata": {},
   "outputs": [
    {
     "name": "stdout",
     "output_type": "stream",
     "text": [
      "Kolmogorov-Smirnov test statistic: 0.005993104905416269\n",
      "p-value of the KS test: 0.8630002542014712\n"
     ]
    }
   ],
   "source": [
    "ks_stat, ks_p_value = stats.kstest(p_values, \"uniform\", alternative='two-sided')\n",
    "print(f\"Kolmogorov-Smirnov test statistic: {ks_stat}\")\n",
    "print(f\"p-value of the KS test: {ks_p_value}\")"
   ]
  },
  {
   "cell_type": "markdown",
   "metadata": {},
   "source": [
    "# ks_p_value $> 0.05 =>$ p_values uniform $=> u_2 = 0$"
   ]
  }
 ],
 "metadata": {
  "kernelspec": {
   "display_name": "Python 3",
   "language": "python",
   "name": "python3"
  },
  "language_info": {
   "codemirror_mode": {
    "name": "ipython",
    "version": 3
   },
   "file_extension": ".py",
   "mimetype": "text/x-python",
   "name": "python",
   "nbconvert_exporter": "python",
   "pygments_lexer": "ipython3",
   "version": "3.12.5"
  }
 },
 "nbformat": 4,
 "nbformat_minor": 2
}
