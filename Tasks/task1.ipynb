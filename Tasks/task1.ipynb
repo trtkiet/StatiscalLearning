{
 "cells": [
  {
   "cell_type": "markdown",
   "metadata": {},
   "source": [
    "# Importing libraries"
   ]
  },
  {
   "cell_type": "code",
   "execution_count": 350,
   "metadata": {},
   "outputs": [],
   "source": [
    "import numpy as np\n",
    "import matplotlib.pyplot as plt\n",
    "import scipy.stats as stats"
   ]
  },
  {
   "cell_type": "markdown",
   "metadata": {},
   "source": [
    "# Sinh các sample $X_i$"
   ]
  },
  {
   "cell_type": "code",
   "execution_count": null,
   "metadata": {},
   "outputs": [
    {
     "data": {
      "text/plain": [
       "array([[ 1.76405235,  0.40015721,  0.97873798],\n",
       "       [ 2.2408932 ,  1.86755799, -0.97727788],\n",
       "       [ 0.95008842, -0.15135721, -0.10321885],\n",
       "       ...,\n",
       "       [ 1.03930909,  0.11820404, -0.76262253],\n",
       "       [ 0.6060834 , -0.40089775, -0.58545199],\n",
       "       [-1.51127631,  0.97684383,  1.25550065]])"
      ]
     },
     "execution_count": 351,
     "metadata": {},
     "output_type": "execute_result"
    }
   ],
   "source": [
    "n_samples = 10000\n",
    "u = np.array([0, 0, 0])\n",
    "Z = np.identity(3)\n",
    "\n",
    "np.random.seed(0) #Cố định samples\n",
    "X = np.random.multivariate_normal(u, Z, n_samples)\n",
    "X"
   ]
  },
  {
   "cell_type": "markdown",
   "metadata": {},
   "source": [
    "# Kiểm định giả thuyết $u_2 = 0$\n",
    "### $T = x_2 = (0 1 0)^T\\times X$\n",
    "### $T$ ~ $N((0, 0, 0)^T\\times u, (0, 1, 0)^T\\times Z\\times (0, 1, 0))$\n",
    "### $(0, 0, 0)^T\\times u = 0$\n",
    "### $(0, 1, 0)^T\\times Z\\times (0, 1, 0) = 1$\n",
    "### => $T$ ~ $N(0, 1)$\n",
    "### z_score $= (T - 0) / 1 = T$"
   ]
  },
  {
   "cell_type": "code",
   "execution_count": 352,
   "metadata": {},
   "outputs": [
    {
     "data": {
      "text/plain": [
       "array([ 0.40015721,  1.86755799, -0.15135721, ...,  0.11820404,\n",
       "       -0.40089775,  0.97684383])"
      ]
     },
     "execution_count": 352,
     "metadata": {},
     "output_type": "execute_result"
    }
   ],
   "source": [
    "T = X[:, 1]\n",
    "T"
   ]
  },
  {
   "cell_type": "code",
   "execution_count": 353,
   "metadata": {},
   "outputs": [
    {
     "data": {
      "text/plain": [
       "array([0.34452037, 0.03091185, 0.56015303, ..., 0.452953  , 0.6557523 ,\n",
       "       0.16432324])"
      ]
     },
     "execution_count": 353,
     "metadata": {},
     "output_type": "execute_result"
    }
   ],
   "source": [
    "p_values = 1 - stats.norm.cdf(T)\n",
    "p_values"
   ]
  },
  {
   "cell_type": "code",
   "execution_count": 354,
   "metadata": {},
   "outputs": [
    {
     "data": {
      "image/png": "[encoded data removed]",
      "text/plain": [
       "<Figure size 640x480 with 1 Axes>"
      ]
     },
     "metadata": {},
     "output_type": "display_data"
    }
   ],
   "source": [
    "plt.hist(p_values, bins=50, alpha=0.75, color='skyblue')\n",
    "plt.xlabel('p-value')\n",
    "plt.ylabel('Frequency')\n",
    "plt.title('Histogram of p-values')\n",
    "plt.show()"
   ]
  },
  {
   "cell_type": "code",
   "execution_count": 369,
   "metadata": {},
   "outputs": [
    {
     "name": "stdout",
     "output_type": "stream",
     "text": [
      "Kolmogorov-Smirnov test statistic: 0.006695201673415085\n",
      "p-value of the KS test: 0.7585221353903892\n"
     ]
    }
   ],
   "source": [
    "ks_stat, ks_p_value = stats.kstest(rvs=p_values, cdf=stats.uniform.cdf, alternative='two-sided')\n",
    "print(f\"Kolmogorov-Smirnov test statistic: {ks_stat}\")\n",
    "print(f\"p-value of the KS test: {ks_p_value}\")"
   ]
  },
  {
   "cell_type": "markdown",
   "metadata": {},
   "source": [
    "# ks_p_value $> 0.05 =>$ p_values uniform"
   ]
  }
 ],
 "metadata": {
  "kernelspec": {
   "display_name": "Python 3",
   "language": "python",
   "name": "python3"
  },
  "language_info": {
   "codemirror_mode": {
    "name": "ipython",
    "version": 3
   },
   "file_extension": ".py",
   "mimetype": "text/x-python",
   "name": "python",
   "nbconvert_exporter": "python",
   "pygments_lexer": "ipython3",
   "version": "3.12.5"
  }
 },
 "nbformat": 4,
 "nbformat_minor": 2
}
